{
 "cells": [
  {
   "cell_type": "markdown",
   "metadata": {},
   "source": [
    "## Условие задачи:\n",
    "Начальная популяция:кол-во особей всегда = 200.  \n",
    "1.1. Случайная генерация  \n",
    "Отбор особей:  \n",
    "2.2. Выбрать только 20% самых приспособленных  \n",
    "Скрещивание:  \n",
    "3.2. Однородный (каждый бит от случайно выбранного родителя)  \n",
    "Мутация:  \n",
    "4.1. Инвертирование всех битов у 1 особи  \n",
    "Формирование новой популяции (кол-во особей: константа)  \n",
    "5.3 замена своих родителей  \n",
    "Оценка результата  \n",
    "Наступила сходимость (функция приспособленности лучшей особи в популяциях отличается не более, чем на 10%) или прошло 500 поколений."
   ]
  },
  {
   "cell_type": "code",
   "execution_count": 46,
   "metadata": {},
   "outputs": [],
   "source": [
    "from numpy import genfromtxt\n",
    "import random\n",
    "from random import choice, randint"
   ]
  },
  {
   "cell_type": "code",
   "execution_count": 47,
   "metadata": {},
   "outputs": [
    {
     "name": "stdout",
     "output_type": "stream",
     "text": [
      "13000 12.0\n"
     ]
    }
   ],
   "source": [
    "def get_data():\n",
    "    with open('13.txt') as f:\n",
    "        settings = f.readline().split(' ')\n",
    "    max_weight = int(settings[0])\n",
    "    max_volume = int(settings[1])\n",
    "    data = genfromtxt('13.txt', delimiter=' ', dtype=(int, float, int), skip_header=1)\n",
    "    return {\n",
    "        'max_weight': int(max_weight),\n",
    "        'max_volume': float(max_volume),\n",
    "        'items': data.tolist()\n",
    "    }\n",
    "data = get_data()\n",
    "#предметы\n",
    "items = sorted(data['items'], key=lambda x: x[2], reverse=True)\n",
    "#данные о рюкзаке\n",
    "max_w = data['max_weight']\n",
    "max_v = data['max_volume']\n",
    "print(max_w, max_v)\n",
    "#количество грузов\n",
    "n = 200\n",
    "generations = 500\n",
    "#print(items)"
   ]
  },
  {
   "cell_type": "markdown",
   "metadata": {},
   "source": [
    "Случайная генерация"
   ]
  },
  {
   "cell_type": "code",
   "execution_count": 48,
   "metadata": {},
   "outputs": [
    {
     "name": "stdout",
     "output_type": "stream",
     "text": [
      "200\n"
     ]
    }
   ],
   "source": [
    "def generate(item):\n",
    "    individ = \"\"\n",
    "    wei = val = vol = 0\n",
    "    for i in range(len(item)):\n",
    "        ind = random.randint(0, 1)\n",
    "        if (ind):\n",
    "            wei += item[i][0]\n",
    "            vol += item[i][1]\n",
    "            val += item[i][2]\n",
    "            \n",
    "        individ += str(ind)\n",
    "    return {\"gen\": individ, \"wei\": wei, \"vol\": vol, \"val\": val}\n",
    "\n",
    "population = []\n",
    "for i in range(n):\n",
    "    population.append(generate(items))\n",
    "print(len(population))"
   ]
  },
  {
   "cell_type": "markdown",
   "metadata": {},
   "source": [
    "Выбор для скрещивания (20% приспособленных особей)"
   ]
  },
  {
   "cell_type": "code",
   "execution_count": 49,
   "metadata": {},
   "outputs": [],
   "source": [
    "#проверка подходит ли нам особь или нет (его приспособленность)\n",
    "def validate(ind):\n",
    "    weight = ind['wei']\n",
    "    volume = ind['vol']\n",
    "    if (weight >= max_w or volume >= max_v):\n",
    "        return 0\n",
    "    else:\n",
    "        return 1\n",
    "\n",
    "\n",
    "def selection(population, s=20):\n",
    "    #считаем 20% от наших особей и сортируем по ценности \n",
    "    percent = int(len(population) * s / 100) \n",
    "    population = sorted(population, key = lambda i: i['val'],reverse=True)\n",
    "    \n",
    "    #выбранные, не выбранные особи и количество выбранных\n",
    "    select = []\n",
    "    not_select = []\n",
    "    count = 0\n",
    "                      \n",
    "    for i in population:\n",
    "        #если не подходит, то добавляем его в невыбранные особи\n",
    "        if (validate(i) == 0):\n",
    "            not_select.append(i)\n",
    "        #если наше количество выбранных особей не привысило 20%\n",
    "        elif(count < percent):\n",
    "            select.append(i)\n",
    "            count += 1\n",
    "        else:\n",
    "            not_select.append(i)            \n",
    "    return  select,not_select\n",
    "\n",
    "#sel, not_sel  = selection(population)\n",
    "#print(sel)"
   ]
  },
  {
   "cell_type": "markdown",
   "metadata": {},
   "source": [
    "Мутация: инвертирование битов"
   ]
  },
  {
   "cell_type": "code",
   "execution_count": 50,
   "metadata": {},
   "outputs": [],
   "source": [
    "def mutate(ind):\n",
    "    newChromo = ''\n",
    "    for i in ind:\n",
    "        if i=='0':\n",
    "            gen = '1'\n",
    "        else:\n",
    "            gen = '0'\n",
    "        newChromo += gen\n",
    "    return {'gen': newChromo, 'wei': 0,  'vol': 0, 'val':0}"
   ]
  },
  {
   "cell_type": "markdown",
   "metadata": {},
   "source": [
    "Скрещивание (кроссинговер) между выбранными особями. Каждая особь скрещивается 1 раз за 1 поколение, 1 пара дает 2 потомка :\n",
    "однородный (каждый бит от случайно выбранного родителя)"
   ]
  },
  {
   "cell_type": "code",
   "execution_count": 51,
   "metadata": {},
   "outputs": [],
   "source": [
    "def crossingover(parent1, parent2):\n",
    "    parents = [parent1, parent2]\n",
    "    #print(parents)\n",
    "    childs = []\n",
    "    for c in range(2):\n",
    "        #маска, от какого родителя берем бит\n",
    "        mask = []\n",
    "        for i in range(len(parent1)):\n",
    "            mask.append(random.randrange(2))\n",
    "        child = ''\n",
    "        j = 0\n",
    "        for i in mask:\n",
    "            child += parents[i][j]\n",
    "            j += 1\n",
    "        childs.append(child)\n",
    "    return childs\n",
    "\n",
    "\n",
    "def getOffspring(indToCross):\n",
    "    offspring =[]\n",
    "    while indToCross!=[]:\n",
    "        ind1 = choice(indToCross)\n",
    "        indToCross.remove(ind1)\n",
    "        ind2 = choice(indToCross)\n",
    "        indToCross.remove(ind2)\n",
    "        childs= crossingover(ind1['gen'], ind2['gen'])\n",
    "        offspring.append({'gen': childs[0], 'wei': 0,  'vol': 0, 'val':0})\n",
    "        offspring.append({'gen': childs[1], 'wei': 0,  'vol': 0, 'val':0})\n",
    "    mutInd = choice(offspring)\n",
    "    offspring.remove(mutInd)\n",
    "    offspring.append(mutate(mutInd['gen']))\n",
    "    return offspring\n",
    "#дети\n",
    "#offspring = getOffspring(sel)\n",
    "#print(len(offspring))\n",
    "#print(offspring)"
   ]
  },
  {
   "cell_type": "code",
   "execution_count": 52,
   "metadata": {},
   "outputs": [],
   "source": [
    "#подсчет функции приспособленности\n",
    "def calcFitness(ind):\n",
    "    summ_val = summ_vol = summ_wei = 0\n",
    "    for i in range(len(items)):\n",
    "        summ_wei += float(ind[i])*items[i][0]\n",
    "        summ_vol += float(ind[i])*items[i][1]\n",
    "        summ_val += float(ind[i])*items[i][2]\n",
    "        if summ_vol<=max_v and summ_wei<=max_w:\n",
    "            price = summ_val\n",
    "        else:\n",
    "            price=0\n",
    "    \n",
    "    return {'gen': ind, 'wei': summ_wei, 'vol': summ_vol, 'val': price}\n",
    "\n",
    "#замена родителей детьми(к невыбранным особям добавляются дети)\n",
    "#for i in offspring:\n",
    "    #not_sel.append(calcFitness(i[\"gen\"]))\n",
    "#print(not_sel)"
   ]
  },
  {
   "cell_type": "code",
   "execution_count": 53,
   "metadata": {},
   "outputs": [
    {
     "name": "stdout",
     "output_type": "stream",
     "text": [
      "4075\n",
      "11.5\n",
      "11263\n"
     ]
    }
   ],
   "source": [
    "for i in range(generations):\n",
    "    #print(\"Итерация: \" + str(i))\n",
    "    \n",
    "    #выбор 20%\n",
    "    sel, not_sel  = selection(population)\n",
    "    #получение детей\n",
    "    offspring = getOffspring(sel)\n",
    "    #добавление детей к невыбранным особям (замена своих рдителей)\n",
    "    for i in offspring:\n",
    "        not_sel.append(calcFitness(i[\"gen\"]))\n",
    "    \n",
    "sel, not_sel = selection(population)\n",
    "population = sorted(sel, key = lambda i: i['val'],reverse=True)\n",
    "print(population[0]['val'])\n",
    "print(population[0]['vol'])\n",
    "print(population[0]['wei'])    \n",
    "    "
   ]
  },
  {
   "cell_type": "code",
   "execution_count": null,
   "metadata": {},
   "outputs": [],
   "source": []
  }
 ],
 "metadata": {
  "kernelspec": {
   "display_name": "Python 3",
   "language": "python",
   "name": "python3"
  },
  "language_info": {
   "codemirror_mode": {
    "name": "ipython",
    "version": 3
   },
   "file_extension": ".py",
   "mimetype": "text/x-python",
   "name": "python",
   "nbconvert_exporter": "python",
   "pygments_lexer": "ipython3",
   "version": "3.7.4"
  }
 },
 "nbformat": 4,
 "nbformat_minor": 2
}
