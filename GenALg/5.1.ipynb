{
 "cells": [
  {
   "cell_type": "code",
   "execution_count": 1,
   "metadata": {},
   "outputs": [],
   "source": [
    "import json\n",
    "from numpy import genfromtxt\n",
    "import ortools\n",
    "from ortools.algorithms import pywrapknapsack_solver"
   ]
  },
  {
   "cell_type": "markdown",
   "metadata": {},
   "source": [
    "Функция загрузки файла"
   ]
  },
  {
   "cell_type": "code",
   "execution_count": 79,
   "metadata": {},
   "outputs": [],
   "source": [
    "def get_data():\n",
    "    with open('13.txt') as f:\n",
    "        settings = f.readline().split(' ')\n",
    "    max_weight = int(settings[0])\n",
    "    max_volume = int(settings[1])\n",
    "    data = genfromtxt('13.txt', delimiter=' ', dtype=(int, float, int), skip_header=1)\n",
    "    return {\n",
    "        'max_weight': int(max_weight),\n",
    "        'max_volume': float(max_volume)*10,\n",
    "        'items': data.tolist()\n",
    "    }"
   ]
  },
  {
   "cell_type": "markdown",
   "metadata": {},
   "source": [
    "загрузка файла"
   ]
  },
  {
   "cell_type": "code",
   "execution_count": 80,
   "metadata": {
    "scrolled": true
   },
   "outputs": [],
   "source": [
    "data = get_data()\n",
    "items = data['items'] #предметы\n",
    "backpack = [data['max_weight'], data['max_volume']] #рюкзак\n",
    "\n",
    "#объем,веса и ценность (формируется для использования в библиотеке)\n",
    "vol = []\n",
    "wei = []\n",
    "val = []\n",
    "for i in range(len(items)):\n",
    "    vol.append(items[i][2])\n",
    "    wei.append(items[i][0])\n",
    "    val.append(float(items[i][1])*10)\n",
    "w = [wei, val]\n"
   ]
  },
  {
   "cell_type": "markdown",
   "metadata": {},
   "source": [
    "Использование библиотеки"
   ]
  },
  {
   "cell_type": "code",
   "execution_count": 82,
   "metadata": {},
   "outputs": [
    {
     "name": "stdout",
     "output_type": "stream",
     "text": [
      "4576\n"
     ]
    }
   ],
   "source": [
    "s = pywrapknapsack_solver.KnapsackSolver(\n",
    "    pywrapknapsack_solver.KnapsackSolver.KNAPSACK_MULTIDIMENSION_BRANCH_AND_BOUND_SOLVER,\n",
    "    'Multi-dimensional solver')\n",
    "s.Init(vol, w, backpack)\n",
    "profit = s.Solve()\n",
    "print(profit)"
   ]
  },
  {
   "cell_type": "markdown",
   "metadata": {},
   "source": [
    "Результат:"
   ]
  },
  {
   "cell_type": "code",
   "execution_count": 158,
   "metadata": {},
   "outputs": [
    {
     "name": "stdout",
     "output_type": "stream",
     "text": [
      "Цена: 4576\n",
      "Вес: 12319\n",
      "Объем: 12\n",
      "Предметы:\n",
      "8.0 1230 0.8\n",
      "5.0 736 0.5\n",
      "7.0 524 0.7\n",
      "5.0 229 0.5\n",
      "4.0 372 0.4\n",
      "12.0 1296 1.2\n",
      "10.0 898 1.0\n",
      "10.0 775 1.0\n",
      "9.0 795 0.9\n",
      "5.0 1058 0.5\n",
      "7.0 176 0.7\n",
      "6.0 482 0.6\n",
      "6.0 801 0.6\n",
      "9.0 1550 0.9\n",
      "9.0 950 0.9\n",
      "8.0 447 0.8\n",
      "\n"
     ]
    }
   ],
   "source": [
    "it = []\n",
    "summ_wei=summ_vol=0\n",
    "for i in range(len(val)):\n",
    "    if s.BestSolutionContains(i):\n",
    "        it.append([val[i], w[0][i], w[1][i]/10])\n",
    "        summ_wei =summ_wei+w[0][i]\n",
    "        summ_vol =summ_vol+w[1][i]\n",
    "result='Цена: '+str(profit)+'\\n'  \n",
    "result+='Вес: '+str(summ_wei)+'\\n'\n",
    "result+='Объем: '+str(int(summ_vol/10))+'\\n'\n",
    "result+='Предметы:\\n'\n",
    "for item in it:\n",
    "    result+=str(item[0])+' '+str(int(item[1]))+' '+str(item[2])+'\\n'\n",
    "print(result)"
   ]
  },
  {
   "cell_type": "code",
   "execution_count": null,
   "metadata": {},
   "outputs": [],
   "source": []
  }
 ],
 "metadata": {
  "kernelspec": {
   "display_name": "Python 3",
   "language": "python",
   "name": "python3"
  },
  "language_info": {
   "codemirror_mode": {
    "name": "ipython",
    "version": 3
   },
   "file_extension": ".py",
   "mimetype": "text/x-python",
   "name": "python",
   "nbconvert_exporter": "python",
   "pygments_lexer": "ipython3",
   "version": "3.7.4"
  }
 },
 "nbformat": 4,
 "nbformat_minor": 2
}
