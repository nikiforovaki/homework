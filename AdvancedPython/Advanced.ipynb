{
 "cells": [
  {
   "cell_type": "markdown",
   "metadata": {},
   "source": [
    "**1.Квадраты всех четных чисел (используя map и filter)**"
   ]
  },
  {
   "cell_type": "code",
   "execution_count": 2,
   "metadata": {},
   "outputs": [
    {
     "name": "stdout",
     "output_type": "stream",
     "text": [
      "4\n",
      "16\n",
      "36\n",
      "64\n",
      "100\n",
      "144\n",
      "196\n",
      "256\n",
      "324\n",
      "400\n"
     ]
    }
   ],
   "source": [
    "import itertools\n",
    "\n",
    "def square(x):\n",
    "    return x*x\n",
    "\n",
    "def parity_check(x):\n",
    "    if x%2==0:\n",
    "        return True\n",
    "    else:\n",
    "        return False\n",
    "    \n",
    "num = num = filter(parity_check, (i for i in itertools.count(1)))\n",
    "squares_num = map(square, num)\n",
    "\n",
    "for i in range(0,10):\n",
    "    print(next(squares_num))"
   ]
  },
  {
   "cell_type": "markdown",
   "metadata": {},
   "source": [
    "**2.Дана входная строка и массив чисел, необходимо вернуть строку с теми буквами, которые стоят на указанных местах (два варианта, используя и не используя list comprehensions)**"
   ]
  },
  {
   "cell_type": "code",
   "execution_count": 6,
   "metadata": {},
   "outputs": [
    {
     "name": "stdout",
     "output_type": "stream",
     "text": [
      "With list comrehensions:смп\n",
      "Without list comprehensions:смп\n"
     ]
    }
   ],
   "source": [
    "def with_list_comprehensions(string, positions):\n",
    "    return \"\".join([x for i,x in enumerate(string) if i in positions])\n",
    "\n",
    "def without_list_comprehensions(string, positions):\n",
    "    result= list()\n",
    "    for i, y in enumerate(string):\n",
    "        if i in positions:\n",
    "            result.append(y)\n",
    "    return \"\".join(result)\n",
    "\n",
    "str = \"Всем привет\"\n",
    "posit = [1, 3, 5]\n",
    "print ('With list comrehensions:'+with_list_comprehensions(str, posit))\n",
    "print ('Without list comprehensions:' +without_list_comprehensions(str, posit))"
   ]
  },
  {
   "cell_type": "markdown",
   "metadata": {},
   "source": [
    "**3. Дан текст (предложения разделены только точками), в котором буквы могут находиться в разных регистрах. Необходимо вернуть текст, в котором все буквы в нижнем регистре, а первые буквы\n",
    "каждого предложения – в верхнем. Пользоваться можно встроенными функциями строки, всеми изученными в этой теме функциями и модулем itertools.**"
   ]
  },
  {
   "cell_type": "code",
   "execution_count": 39,
   "metadata": {},
   "outputs": [
    {
     "name": "stdout",
     "output_type": "stream",
     "text": [
      "Здесь должен. Быть длинный. Текст.\n"
     ]
    }
   ],
   "source": [
    "def capitalize(text):\n",
    "    count = 0\n",
    "    len_text=len(text)\n",
    "    while (count != len_text):\n",
    "        #если первый символ, то в верхний регистр\n",
    "        if count == 0:\n",
    "            symbol=text[0]\n",
    "            b_symbol=\"\"\n",
    "            yield text[0].upper()\n",
    "            count += 1            \n",
    "        else:\n",
    "                if symbol == ' ' and b_symbol == '.': \n",
    "                    b_symbol = symbol\n",
    "                    symbol=text[count] \n",
    "                    yield text[count].upper()\n",
    "                    count += 1\n",
    "                else:\n",
    "                    b_symbol = symbol\n",
    "                    symbol = text[count]          \n",
    "                    yield text[count].lower()\n",
    "                    count += 1                \n",
    "\n",
    "text = 'Здесь должен. БЫТЬ длинный. Текст.'\n",
    "print(\"\".join(capitalize(text)))"
   ]
  },
  {
   "cell_type": "markdown",
   "metadata": {},
   "source": [
    " **4.создайте функцию pipeline_each, в которую вы будете подавать итерируемый объект и список функций, которые последовательно надо к нему применить.\n",
    "Ответ – объект после применения функций в указанном порядке**"
   ]
  },
  {
   "cell_type": "code",
   "execution_count": null,
   "metadata": {},
   "outputs": [],
   "source": [
    "def pipeline_each(iterable, funcs):\n",
    "    for func in funcs:\n",
    "        for i, obj in enumerate(iterable):\n",
    "            iterable = func(obj)\n",
    "    return iterable\n",
    "\n",
    "def my_func(x):\n",
    "    return x+x\n",
    "\n",
    "func = [my_func]\n",
    "it = [4]\n",
    "print(pipeline_each(it, func))"
   ]
  },
  {
   "cell_type": "markdown",
   "metadata": {},
   "source": [
    "**5. Написать генератор, возвращающий по очереди все слова,\n",
    "входящие в предложение**"
   ]
  },
  {
   "cell_type": "code",
   "execution_count": 49,
   "metadata": {},
   "outputs": [
    {
     "name": "stdout",
     "output_type": "stream",
     "text": [
      "Тут\n",
      "все\n",
      "слова\n"
     ]
    }
   ],
   "source": [
    "def word(text):\n",
    "    # разбиваем слова по пробелам и проходим весь текст\n",
    "    words = text.split(' ')\n",
    "    for i in words:\n",
    "        yield i\n",
    "        \n",
    "text = \"Тут все слова\"\n",
    "for i in word(text):\n",
    "    print(i)"
   ]
  },
  {
   "cell_type": "markdown",
   "metadata": {},
   "source": [
    "**6. Написать генератор псевдо случайных чисел**\n",
    "- Генератор внутри задается какой-нибудь формулой, которая выдает «случайный» результат\n",
    "- На вход генератору приходит seed – начальное значение, при одинаковых начальных значениях два генератора будут выдавать одинаковые следующие значения"
   ]
  },
  {
   "cell_type": "code",
   "execution_count": null,
   "metadata": {},
   "outputs": [],
   "source": [
    "\n"
   ]
  },
  {
   "cell_type": "markdown",
   "metadata": {},
   "source": [
    "**7. Написать корутину, которая реализует бесконечную арифметическую прогрессию с возможностью перезапуска с любого места (3, 4, 5, 6, send(30), 31, 32, 33, …)**"
   ]
  },
  {
   "cell_type": "code",
   "execution_count": 60,
   "metadata": {},
   "outputs": [
    {
     "name": "stdout",
     "output_type": "stream",
     "text": [
      "3\n",
      "31\n",
      "32\n"
     ]
    }
   ],
   "source": [
    "def arithmetic_prog():\n",
    "    # номер, с которого начинаем\n",
    "    num = 3\n",
    "    while True:\n",
    "        input = yield num\n",
    "        if input is not None:\n",
    "            num = input\n",
    "        num += 1\n",
    "\n",
    "num = arithmetic_prog()\n",
    "print(next(num))\n",
    "print(num.send(30))\n",
    "print(next(num))"
   ]
  },
  {
   "cell_type": "code",
   "execution_count": null,
   "metadata": {},
   "outputs": [],
   "source": []
  }
 ],
 "metadata": {
  "kernelspec": {
   "display_name": "Python 3",
   "language": "python",
   "name": "python3"
  },
  "language_info": {
   "codemirror_mode": {
    "name": "ipython",
    "version": 3
   },
   "file_extension": ".py",
   "mimetype": "text/x-python",
   "name": "python",
   "nbconvert_exporter": "python",
   "pygments_lexer": "ipython3",
   "version": "3.7.4"
  }
 },
 "nbformat": 4,
 "nbformat_minor": 2
}
